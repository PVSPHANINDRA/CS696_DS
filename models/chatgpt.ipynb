{
 "cells": [
  {
   "cell_type": "code",
   "execution_count": 3,
   "id": "eed19e03-3b5e-48c4-b72e-c8daeaf2fa3e",
   "metadata": {},
   "outputs": [
    {
     "name": "stdout",
     "output_type": "stream",
     "text": [
      "Collecting openai\n",
      "  Downloading openai-0.27.4-py3-none-any.whl (70 kB)\n",
      "\u001b[2K     \u001b[90m━━━━━━━━━━━━━━━━━━━━━━━━━━━━━━━━━━━━━━━━\u001b[0m \u001b[32m70.3/70.3 kB\u001b[0m \u001b[31m1.3 MB/s\u001b[0m eta \u001b[36m0:00:00\u001b[0ma \u001b[36m0:00:01\u001b[0m\n",
      "\u001b[?25hRequirement already satisfied: tqdm in ./lib/python3.10/site-packages (from openai) (4.65.0)\n",
      "Requirement already satisfied: requests>=2.20 in ./lib/python3.10/site-packages (from openai) (2.28.1)\n",
      "Requirement already satisfied: aiohttp in ./lib/python3.10/site-packages (from openai) (3.8.3)\n",
      "Requirement already satisfied: certifi>=2017.4.17 in ./lib/python3.10/site-packages (from requests>=2.20->openai) (2022.12.7)\n",
      "Requirement already satisfied: idna<4,>=2.5 in ./lib/python3.10/site-packages (from requests>=2.20->openai) (3.4)\n",
      "Requirement already satisfied: charset-normalizer<3,>=2 in ./lib/python3.10/site-packages (from requests>=2.20->openai) (2.0.4)\n",
      "Requirement already satisfied: urllib3<1.27,>=1.21.1 in ./lib/python3.10/site-packages (from requests>=2.20->openai) (1.26.15)\n",
      "Requirement already satisfied: multidict<7.0,>=4.5 in ./lib/python3.10/site-packages (from aiohttp->openai) (6.0.2)\n",
      "Requirement already satisfied: async-timeout<5.0,>=4.0.0a3 in ./lib/python3.10/site-packages (from aiohttp->openai) (4.0.2)\n",
      "Requirement already satisfied: yarl<2.0,>=1.0 in ./lib/python3.10/site-packages (from aiohttp->openai) (1.8.1)\n",
      "Requirement already satisfied: frozenlist>=1.1.1 in ./lib/python3.10/site-packages (from aiohttp->openai) (1.3.3)\n",
      "Requirement already satisfied: aiosignal>=1.1.2 in ./lib/python3.10/site-packages (from aiohttp->openai) (1.2.0)\n",
      "Requirement already satisfied: attrs>=17.3.0 in ./lib/python3.10/site-packages (from aiohttp->openai) (22.1.0)\n",
      "Installing collected packages: openai\n",
      "Successfully installed openai-0.27.4\n",
      "Note: you may need to restart the kernel to use updated packages.\n"
     ]
    }
   ],
   "source": [
    "pip install openai"
   ]
  },
  {
   "cell_type": "code",
   "execution_count": 2,
   "id": "62208ea6-270b-4e30-9626-1b4510cd6026",
   "metadata": {},
   "outputs": [],
   "source": [
    "import openai"
   ]
  },
  {
   "cell_type": "code",
   "execution_count": 5,
   "id": "7dec51c2-8380-424d-9c02-e6bb17d7b08a",
   "metadata": {},
   "outputs": [],
   "source": [
    "openai.api_key = \"\" # Use your own API Key here"
   ]
  },
  {
   "cell_type": "code",
   "execution_count": 8,
   "id": "34eac796-4e4f-469e-9fce-91123b9a4f99",
   "metadata": {},
   "outputs": [
    {
     "name": "stdout",
     "output_type": "stream",
     "text": [
      "Ahoy there! Ye be lookin' fer the ChatGPT API, aye? Well, shiver me timbers, this be the finest API for all yer chatbot needs, me hearties!\n",
      "\n",
      "With the ChatGPT API, ye can make yer very own chatbot that can talk like a true pirate. Ye can teach it to say \"aye aye, captain\" or \"yo ho ho and a bottle of rum\" like a true buccaneer. Not only that, but ye can also customize the chatbot's language so it can speak in many different tongues.\n",
      "\n",
      "And if ye be worryin' about the safety of yer personal information, fret not, me mateys! The ChatGPT API be 100% secure and authenticated, so ye can be sure that no scallywag will be gettin' a hold of yer precious data.\n",
      "\n",
      "So, hoist the colors and set sail fer the ChatGPT API. It be the treasure ye be needin' for yer chatbot adventures on the seven seas of the internet! Arrrr!\n"
     ]
    }
   ],
   "source": [
    "completion = openai.ChatCompletion.create(\n",
    "  model=\"gpt-3.5-turbo\",\n",
    "  messages=[\n",
    "    {\"role\": \"user\", \"content\": \"Tell the world about the ChatGPT API in the style of a pirate.\"}\n",
    "  ]\n",
    ")\n",
    "\n",
    "print(completion.choices[0].message.content)"
   ]
  },
  {
   "cell_type": "code",
   "execution_count": 9,
   "id": "05fd41df-6d0d-4671-8ae0-2672b46c0b3a",
   "metadata": {},
   "outputs": [
    {
     "name": "stdin",
     "output_type": "stream",
     "text": [
      "User:  Ask voice assistant on phone the ingredient list for making ratatouille in various ways\n"
     ]
    },
    {
     "name": "stdout",
     "output_type": "stream",
     "text": [
      "ChatGPT: To get the ingredient list for making ratatouille, you can ask your voice assistant on your phone the following:\n",
      "\n",
      "\"Hey Google/Siri/Alexa, what are the ingredients for making ratatouille?\"\n",
      "\n",
      "or\n",
      "\n",
      "\"Hey Google/Siri/Alexa, can you provide me with different ways to make ratatouille and their ingredient lists?\"\n"
     ]
    },
    {
     "name": "stdin",
     "output_type": "stream",
     "text": [
      "User:  Ask voice assistant in different ways the ingredient list for making ratatouille\n"
     ]
    },
    {
     "name": "stdout",
     "output_type": "stream",
     "text": [
      "ChatGPT: Sure, here are some other variations of asking your voice assistant for the ingredient list for making ratatouille:\n",
      "\n",
      "1. \"Hey Google/Siri/Alexa, what ingredients do I need for ratatouille?\"\n",
      "\n",
      "2. \"Hey Google/Siri/Alexa, can you tell me what goes in a classic ratatouille recipe?\"\n",
      "\n",
      "3. \"Hey Google/Siri/Alexa, can you provide me with a list of ingredients needed for making ratatouille?\"\n",
      "\n",
      "4. \"Hey Google/Siri/Alexa, what are the vegetables used in making ratatouille and what other ingredients are required?\"\n",
      "\n",
      "5. \"Hey Google/Siri/Alexa, can you give me the recipe and ingredient list for making ratatouille?\"\n"
     ]
    },
    {
     "name": "stdin",
     "output_type": "stream",
     "text": [
      "User:  ask siri in different ways to suggest places to travel to in Europe\n"
     ]
    },
    {
     "name": "stdout",
     "output_type": "stream",
     "text": [
      "ChatGPT: Sure, here are some different ways to ask Siri to suggest places to travel to in Europe:\n",
      "\n",
      "1. \"Hey Siri, what are some top destinations to travel to in Europe?\"\n",
      "2. \"Siri, can you recommend some offbeat places to visit in Europe?\"\n",
      "3. \"Siri, where do you suggest I travel to for a romantic getaway in Europe?\"\n",
      "4. \"Hey Siri, which European cities are best for experiencing vibrant nightlife?\"\n",
      "5. \"Siri, what are the must-visit locations in Europe for art and culture enthusiasts?\"\n"
     ]
    },
    {
     "name": "stdin",
     "output_type": "stream",
     "text": [
      "User:  Ask Alexa in fun ways to quickly summarize the events on the calender today\n"
     ]
    },
    {
     "name": "stdout",
     "output_type": "stream",
     "text": [
      "ChatGPT: Sure, here are some fun ways to ask Alexa to quickly summarize the events on your calendar today:\n",
      "\n",
      "1. \"Hey Alexa, what exciting things are happening in my world today?\"\n",
      "2. \"Alexa, what's the scoop on my calendar today?\"\n",
      "3. \"Hey Alexa, what kind of fun is on the agenda for me today?\"\n",
      "4. \"Alexa, can you give me a rundown of today's events?\"\n",
      "5. \"Hey Alexa, is anything exciting happening today besides the usual grind?\"\n"
     ]
    },
    {
     "name": "stdin",
     "output_type": "stream",
     "text": [
      "User:  Ask assistant in unique ways to suggest meals suitable for a lactose intolerant person\n"
     ]
    },
    {
     "name": "stdout",
     "output_type": "stream",
     "text": [
      "ChatGPT: Sure, here are some unique ways to ask your voice assistant to suggest meals suitable for a lactose intolerant person:\n",
      "\n",
      "1. \"Hey Google/Siri/Alexa, what are some delicious lactose-free meals that I can make for dinner tonight?\"\n",
      "2. \"Can you suggest some recipes for lactose intolerant individuals that are both healthy and tasty?\"\n",
      "3. \"Hey Google/Siri/Alexa, can you recommend some dairy-free meal options for someone with lactose intolerance?\"\n",
      "4. \"What are some of the best lactose-free dinner recipes out there?\"\n",
      "5. \"Hey Google/Siri/Alexa, what are some alternatives to dairy that I can use in my cooking for a lactose intolerant person?\"\n"
     ]
    }
   ],
   "source": [
    "messages = [\n",
    " {\"role\": \"system\", \"content\" : \"You’re a creative out of the box thinker helpful assistant\"}\n",
    "]\n",
    "\n",
    "i = 0\n",
    "while i < 5:\n",
    "    content = input(\"User: \")\n",
    "    messages.append({\"role\": \"user\", \"content\": content})\n",
    "    \n",
    "    completion = openai.ChatCompletion.create(\n",
    "      model=\"gpt-3.5-turbo-0301\",\n",
    "      messages=messages\n",
    "    )\n",
    "\n",
    "    chat_response = completion.choices[0].message.content\n",
    "    print(f'ChatGPT: {chat_response}')\n",
    "    messages.append({\"role\": \"assistant\", \"content\": chat_response})\n",
    "    i = i + 1"
   ]
  },
  {
   "cell_type": "code",
   "execution_count": null,
   "id": "6f8a8f9a-edde-48c6-9a42-1bf217bc9c1c",
   "metadata": {},
   "outputs": [],
   "source": []
  }
 ],
 "metadata": {
  "kernelspec": {
   "display_name": "Python (gdhanania_umass_edu-vadops)",
   "language": "python",
   "name": "conda-env-gdhanania_umass_edu-vadops-py"
  },
  "language_info": {
   "codemirror_mode": {
    "name": "ipython",
    "version": 3
   },
   "file_extension": ".py",
   "mimetype": "text/x-python",
   "name": "python",
   "nbconvert_exporter": "python",
   "pygments_lexer": "ipython3",
   "version": "3.10.10"
  }
 },
 "nbformat": 4,
 "nbformat_minor": 5
}
