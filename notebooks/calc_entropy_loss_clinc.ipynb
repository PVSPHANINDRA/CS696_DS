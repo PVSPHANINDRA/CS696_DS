{
 "cells": [
  {
   "cell_type": "code",
   "execution_count": 25,
   "id": "47611c9e-fc9b-46c9-b9a9-d618b9034809",
   "metadata": {
    "tags": []
   },
   "outputs": [],
   "source": [
    "# NOTE: Based on your requirements, make changes to the variables:  checkpoints_out_dir, dataset_subset, entropy_analysis_path\n",
    "\n",
    "# dataset\n",
    "dataset_name = 'clinc_oos'\n",
    "dataset_subset = 'small'\n",
    "\n",
    "# model \n",
    "checkpoints_out_dir = '../checkpoints/clinc_small/checkpoint-15200'\n",
    "\n",
    "#device\n",
    "device = 'cuda:0'\n",
    "\n",
    "# pipeline\n",
    "pipeline_task = 'text-classification'\n",
    "\n",
    "# entropy analysis path\n",
    "entropy_analysis_path = '../predictions/entropy/clinc_small.csv'"
   ]
  },
  {
   "cell_type": "code",
   "execution_count": 26,
   "id": "71db6692-1c0f-4152-8233-a94a9a453392",
   "metadata": {
    "tags": []
   },
   "outputs": [
    {
     "name": "stderr",
     "output_type": "stream",
     "text": [
      "Found cached dataset clinc_oos (/work/pi_adrozdov_umass_edu/vpamidimukka_umass_edu/hf_cache/datasets/clinc_oos/small/1.0.0/abcc41d382f8137f039adc747af44714941e8196e845dfbdd8ae7a7e020e6ba1)\n"
     ]
    }
   ],
   "source": [
    "# load test dataset\n",
    "from datasets import load_dataset\n",
    "\n",
    "test_data = load_dataset(dataset_name, dataset_subset, split = 'test')\n",
    "test_data = test_data.rename_column(\"intent\", \"label\")"
   ]
  },
  {
   "cell_type": "code",
   "execution_count": 27,
   "id": "ef4f26d4-3f2e-41cd-80bf-f72c85fac090",
   "metadata": {
    "tags": []
   },
   "outputs": [
    {
     "data": {
      "text/plain": [
       "RobertaForSequenceClassification(\n",
       "  (roberta): RobertaModel(\n",
       "    (embeddings): RobertaEmbeddings(\n",
       "      (word_embeddings): Embedding(50265, 768, padding_idx=1)\n",
       "      (position_embeddings): Embedding(514, 768, padding_idx=1)\n",
       "      (token_type_embeddings): Embedding(1, 768)\n",
       "      (LayerNorm): LayerNorm((768,), eps=1e-05, elementwise_affine=True)\n",
       "      (dropout): Dropout(p=0.1, inplace=False)\n",
       "    )\n",
       "    (encoder): RobertaEncoder(\n",
       "      (layer): ModuleList(\n",
       "        (0-11): 12 x RobertaLayer(\n",
       "          (attention): RobertaAttention(\n",
       "            (self): RobertaSelfAttention(\n",
       "              (query): Linear(in_features=768, out_features=768, bias=True)\n",
       "              (key): Linear(in_features=768, out_features=768, bias=True)\n",
       "              (value): Linear(in_features=768, out_features=768, bias=True)\n",
       "              (dropout): Dropout(p=0.1, inplace=False)\n",
       "            )\n",
       "            (output): RobertaSelfOutput(\n",
       "              (dense): Linear(in_features=768, out_features=768, bias=True)\n",
       "              (LayerNorm): LayerNorm((768,), eps=1e-05, elementwise_affine=True)\n",
       "              (dropout): Dropout(p=0.1, inplace=False)\n",
       "            )\n",
       "          )\n",
       "          (intermediate): RobertaIntermediate(\n",
       "            (dense): Linear(in_features=768, out_features=3072, bias=True)\n",
       "            (intermediate_act_fn): GELUActivation()\n",
       "          )\n",
       "          (output): RobertaOutput(\n",
       "            (dense): Linear(in_features=3072, out_features=768, bias=True)\n",
       "            (LayerNorm): LayerNorm((768,), eps=1e-05, elementwise_affine=True)\n",
       "            (dropout): Dropout(p=0.1, inplace=False)\n",
       "          )\n",
       "        )\n",
       "      )\n",
       "    )\n",
       "  )\n",
       "  (classifier): RobertaClassificationHead(\n",
       "    (dense): Linear(in_features=768, out_features=768, bias=True)\n",
       "    (dropout): Dropout(p=0.1, inplace=False)\n",
       "    (out_proj): Linear(in_features=768, out_features=151, bias=True)\n",
       "  )\n",
       ")"
      ]
     },
     "execution_count": 27,
     "metadata": {},
     "output_type": "execute_result"
    }
   ],
   "source": [
    "from transformers import AutoTokenizer, AutoModelForSequenceClassification\n",
    "\n",
    "# Load the tokenizer and the model from saved checkpoint\n",
    "tokenizer = AutoTokenizer.from_pretrained(checkpoints_out_dir)\n",
    "model = AutoModelForSequenceClassification.from_pretrained(checkpoints_out_dir)\n",
    "\n",
    "# set model to device\n",
    "model.to(device)\n",
    "\n",
    "# set the model to evaluation mode\n",
    "model.eval()"
   ]
  },
  {
   "cell_type": "code",
   "execution_count": 28,
   "id": "e970a217-5d9a-40c0-a5a4-3423831eca95",
   "metadata": {},
   "outputs": [],
   "source": [
    "import torch\n",
    "from torch.utils.data import DataLoader, TensorDataset\n",
    "\n",
    "# tokenizing the test dataset\n",
    "test_encodings = tokenizer(test_data['text'], truncation=True, padding=True, return_tensors='pt')\n",
    "\n",
    "# create batches\n",
    "batch_size = 16\n",
    "test_dataset = TensorDataset(test_encodings['input_ids'], test_encodings['attention_mask'], torch.tensor(test_data[\"label\"]))\n",
    "test_dataloader = DataLoader(test_dataset, batch_size=batch_size)"
   ]
  },
  {
   "cell_type": "code",
   "execution_count": 29,
   "id": "86c43a1a-483e-42e7-9e04-40bbb70b0ab2",
   "metadata": {
    "tags": []
   },
   "outputs": [],
   "source": [
    "from torch.nn.functional import cross_entropy\n",
    "\n",
    "losses = []\n",
    "predicted_labels = []\n",
    "true_labels = []\n",
    "\n",
    "# calculating the cross entropy for each sentence\n",
    "for batch in test_dataloader:\n",
    "    # Unpack the batch and move it to GPU\n",
    "    input_ids, attention_mask, batch_true_labels = tuple(t.to(device) for t in batch)\n",
    "    \n",
    "    # forward pass\n",
    "    with torch.no_grad():\n",
    "        outputs = model(input_ids, attention_mask=attention_mask)\n",
    "        logits = outputs.logits\n",
    "        batch_predicted_labels = torch.argmax(logits, axis = 1)\n",
    "        \n",
    "        # calculate the entropy loss\n",
    "        batch_loss = cross_entropy(logits, batch_true_labels, reduction='none')\n",
    "        \n",
    "        losses.extend(batch_loss.tolist())\n",
    "        predicted_labels.extend(batch_predicted_labels.tolist())\n",
    "        true_labels.extend(batch_true_labels.tolist())"
   ]
  },
  {
   "cell_type": "code",
   "execution_count": 30,
   "id": "ea2fb94f-3eeb-4bb7-8080-584cbbbe1060",
   "metadata": {
    "tags": []
   },
   "outputs": [],
   "source": [
    "import pandas as pd\n",
    "\n",
    "# Save calculated entropy loss as csv file\n",
    "df = pd.DataFrame([true_labels, predicted_labels, losses])\n",
    "df = df.transpose()\n",
    "df.columns = ['True_Label_Index', 'Predicted_Label_Index', 'Entropy Loss']\n",
    "df = df.reset_index().rename(columns={'index': 'Test_Data_Index'})\n",
    "df.insert(df.columns.get_loc('Test_Data_Index') + 1, 'Text', [test_data['text'][i] for i in df['Test_Data_Index']])\n",
    "df.insert(df.columns.get_loc('Text') + 1, 'True Label', [model.config.id2label[l] for l in df['True_Label_Index']])\n",
    "df.insert(df.columns.get_loc('Predicted_Label_Index') + 1, 'Predicted Label', [model.config.id2label[l] for l in df['Predicted_Label_Index']])\n",
    "df.to_csv(entropy_analysis_path, index = False)"
   ]
  },
  {
   "cell_type": "code",
   "execution_count": null,
   "id": "c5823600-7bfb-49c9-ae12-4045727036fc",
   "metadata": {},
   "outputs": [],
   "source": []
  }
 ],
 "metadata": {
  "kernelspec": {
   "display_name": "Python (vpamidimukka_umass_edu-vadops)",
   "language": "python",
   "name": "conda-env-vpamidimukka_umass_edu-vadops-py"
  },
  "language_info": {
   "codemirror_mode": {
    "name": "ipython",
    "version": 3
   },
   "file_extension": ".py",
   "mimetype": "text/x-python",
   "name": "python",
   "nbconvert_exporter": "python",
   "pygments_lexer": "ipython3",
   "version": "3.10.9"
  }
 },
 "nbformat": 4,
 "nbformat_minor": 5
}
