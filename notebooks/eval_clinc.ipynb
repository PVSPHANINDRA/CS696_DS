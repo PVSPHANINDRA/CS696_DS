{
 "cells": [
  {
   "cell_type": "code",
   "execution_count": 12,
   "id": "47611c9e-fc9b-46c9-b9a9-d618b9034809",
   "metadata": {
    "tags": []
   },
   "outputs": [],
   "source": [
    "# NOTE: Based on your requirements, make changes to the variables:  checkpoints_out_dir, dataset_subset, predictions_out_dir\n",
    "\n",
    "# dataset\n",
    "dataset_name = 'clinc_oos'\n",
    "dataset_subset = 'small'\n",
    "\n",
    "# model \n",
    "checkpoints_out_dir = '../checkpoints/clinc_small/checkpoint-15200'\n",
    "\n",
    "#device\n",
    "device = 'cuda:0'\n",
    "\n",
    "# pipeline\n",
    "pipeline_task = 'text-classification'\n",
    "\n",
    "# predictions dir\n",
    "predictions_out_dir = '../predictions/clinc_small.csv'"
   ]
  },
  {
   "cell_type": "code",
   "execution_count": 13,
   "id": "71db6692-1c0f-4152-8233-a94a9a453392",
   "metadata": {
    "tags": []
   },
   "outputs": [
    {
     "name": "stderr",
     "output_type": "stream",
     "text": [
      "Found cached dataset clinc_oos (/work/pi_adrozdov_umass_edu/vpamidimukka_umass_edu/hf_cache/datasets/clinc_oos/small/1.0.0/abcc41d382f8137f039adc747af44714941e8196e845dfbdd8ae7a7e020e6ba1)\n"
     ]
    },
    {
     "data": {
      "text/plain": [
       "Dataset({\n",
       "    features: ['text', 'label'],\n",
       "    num_rows: 5500\n",
       "})"
      ]
     },
     "execution_count": 13,
     "metadata": {},
     "output_type": "execute_result"
    }
   ],
   "source": [
    "# load test dataset\n",
    "from datasets import load_dataset\n",
    "\n",
    "test_data = load_dataset(dataset_name, dataset_subset, split = 'test')\n",
    "test_data = test_data.rename_column(\"intent\", \"label\")\n",
    "\n",
    "test_data"
   ]
  },
  {
   "cell_type": "code",
   "execution_count": 14,
   "id": "1648efc6-6714-41cb-8c73-5d58e4c88eaa",
   "metadata": {},
   "outputs": [],
   "source": [
    "# predict test dataset\n",
    "from transformers import pipeline\n",
    "from sklearn.metrics import classification_report\n",
    "\n",
    "classifier = pipeline(pipeline_task, model=checkpoints_out_dir, device=device)\n",
    "\n",
    "# Make predictions on the testing dataset\n",
    "predictions = classifier(test_data['text'], batch_size=16)\n",
    "\n",
    "# Convert the predictions to a list of labels\n",
    "predicted_labels = [p['label'] for p in predictions]\n",
    "true_labels = [classifier.model.config.id2label[label] for label in test_data['label']]"
   ]
  },
  {
   "cell_type": "code",
   "execution_count": 15,
   "id": "0689a345-5801-4f02-b978-27f6ef585d0b",
   "metadata": {
    "tags": []
   },
   "outputs": [
    {
     "name": "stdout",
     "output_type": "stream",
     "text": [
      "Macro Average F1 score: 0.91\n",
      "Weighted Average F1 score: 0.85\n",
      "Accuracy: 86.60%\n"
     ]
    }
   ],
   "source": [
    "# calculate f1 score for each label and accuracy\n",
    "from sklearn.metrics import classification_report\n",
    "\n",
    "report = classification_report(true_labels, predicted_labels, output_dict=True)\n",
    "\n",
    "# report has three root variables 1. accuracy 2. macro avg 3. weighted avg\n",
    "macro_avg_f1_score = report['macro avg']['f1-score']\n",
    "weighted_avg_f1_score = report['weighted avg']['f1-score']\n",
    "\n",
    "accuracy = report['accuracy']\n",
    "\n",
    "print('Macro Average F1 score: {:.2f}'.format(macro_avg_f1_score))\n",
    "print('Weighted Average F1 score: {:.2f}'.format(weighted_avg_f1_score))\n",
    "print('Accuracy: {:.2f}%'.format(accuracy * 100))"
   ]
  },
  {
   "cell_type": "code",
   "execution_count": 16,
   "id": "42754b3f-c0aa-438a-90df-0319830fa36b",
   "metadata": {
    "tags": []
   },
   "outputs": [],
   "source": [
    "import pandas as pd\n",
    "df = pd.DataFrame(report)\n",
    "\n",
    "df = df.transpose()\n",
    "df = df.reset_index().rename(columns={'index': 'label'})\n",
    "df = df[:-3] # removing accuracy, macro avg, weighted avg from the report\n",
    "df.insert(df.columns.get_loc('label') + 1, 'label_index', [classifier.model.config.label2id[l] for l in df['label']])\n",
    "df_sorted = df.sort_values(by='f1-score')\n",
    "df_sorted.to_csv(predictions_out_dir, index = False)"
   ]
  }
 ],
 "metadata": {
  "kernelspec": {
   "display_name": "Python (vpamidimukka_umass_edu-vadops)",
   "language": "python",
   "name": "conda-env-vpamidimukka_umass_edu-vadops-py"
  },
  "language_info": {
   "codemirror_mode": {
    "name": "ipython",
    "version": 3
   },
   "file_extension": ".py",
   "mimetype": "text/x-python",
   "name": "python",
   "nbconvert_exporter": "python",
   "pygments_lexer": "ipython3",
   "version": "3.10.9"
  }
 },
 "nbformat": 4,
 "nbformat_minor": 5
}
