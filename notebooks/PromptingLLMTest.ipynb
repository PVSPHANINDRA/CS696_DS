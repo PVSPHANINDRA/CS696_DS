{
 "cells": [
  {
   "cell_type": "code",
   "execution_count": 1,
   "id": "d13e7371-f0e3-4196-add7-404b73539130",
   "metadata": {},
   "outputs": [],
   "source": [
    "from transformers import pipeline # First line"
   ]
  },
  {
   "cell_type": "code",
   "execution_count": 2,
   "id": "060d2baf-f392-4c56-97e5-05c1fa72eade",
   "metadata": {},
   "outputs": [],
   "source": [
    "generator = pipeline('text-generation', model='EleutherAI/gpt-neo-2.7B') # Second line\n"
   ]
  },
  {
   "cell_type": "code",
   "execution_count": 10,
   "id": "0df9f092-8ed4-49a2-b0e5-0c59b69dad58",
   "metadata": {},
   "outputs": [],
   "source": [
    "prompt = \"Can you generate 10  sentences for intent classification task with the intent label \\\"GetWeather\\\"? Generated Questions: \" # Third line\n"
   ]
  },
  {
   "cell_type": "markdown",
   "id": "b457ad3f-acf2-4812-9b7b-fb15b9fb7800",
   "metadata": {},
   "source": [
    "### Prompt:\n",
    "\n",
    "Can you generate 10  sentences for intent classification task with the intent label \\\"GetWeather\\\" Generated Sentences: "
   ]
  },
  {
   "cell_type": "code",
   "execution_count": 11,
   "id": "6b477852-806f-4dd6-8d2a-3bc836ade46a",
   "metadata": {},
   "outputs": [
    {
     "name": "stderr",
     "output_type": "stream",
     "text": [
      "Setting `pad_token_id` to `eos_token_id`:50256 for open-end generation.\n"
     ]
    },
    {
     "name": "stdout",
     "output_type": "stream",
     "text": [
      "Can you generate 10  sentences for intent classification task with the intent label \"GetWeather\"? Generated Questions: \n",
      "1) \"GetWeather is good to go today\"\n",
      "2) \"GetWeather can I get back to work today\"\n",
      "3) \"GetWeather is a good day to work\"\n",
      "4) \"GetWeather can I work on the weekend\"\n",
      "5) \"GetWeather it's a good day to work\"\n",
      "6) \"GetWeather is better than work\"\n",
      "7) \"GetWeather is a good day to work\"\n",
      "8) \"GetWeather I'm going to the beach today\"\n",
      "9) \"GetWeather it's good to go to the beach today\"\n",
      "10) \"GetWeather is a good day to go to the beach today\"\n",
      "\n",
      "  - How to create the intent classification task:\n",
      "       Create list with random numbers: \n",
      "1) 1, 2, 3, 4, 5, 6, 7, 8, 9, 10\n",
      "\n",
      "2) 5, 3, 7, 4, 1, 2, 6, 8, 10, 9\n",
      "\n",
      "3) 4, 6, 2, 7, 3, 9, 10, 5, 1\n",
      "\n",
      "4) 1, 1, 2, 2, 2, 3, 3, 4, 5, 6\n",
      "\n",
      "5) 4, 2, 1, 6, 2, 8, 4, 2, 1\n",
      "\n",
      "6) 5, 9, 4, 3, 1, 1, 6, 3, 1\n",
      "\n",
      "7) 1, 9, 1, 3, 1, 3, 1, 3, 5, 2\n",
      "\n",
      "8) 1, 8, 1, 1, 3, 2, 3 crowds, 3, 4\n",
      "\n",
      "9) 4, 4, 1, 3, 2, 3, 7, 3, 2\n",
      "\n",
      "10) 4, 7, 1, 3, 5, 1, 2, 1, 2\n",
      "\n",
      "11) 4, 8, 1, 1, 5, 1, 4, 1, 2\n",
      "\n",
      "12) 1, 3, 3, 1, 5, 7, 4, 1, 3\n",
      "\n",
      "13) 1, 7, 3, 1, 1, 3, 9, 1, 1\n",
      "\n",
      "14) 2, 3, 1, 1, 2, 1, 1, 1, 1, 2 \n",
      "        This is\n"
     ]
    }
   ],
   "source": [
    "res = generator(prompt, max_length=500, do_sample=True, temperature=0.9) # Fourth line\n",
    "print(res[0]['generated_text'])"
   ]
  },
  {
   "cell_type": "markdown",
   "id": "ec7c43ee-2f91-4bd3-91e5-8b9fc7f0d2e4",
   "metadata": {},
   "source": [
    "### Prompt:\n",
    "\n",
    "Can you generate 10  questions for intent classification task with the intent label \\\"GetWeather\\\" Generated Sentences: "
   ]
  },
  {
   "cell_type": "code",
   "execution_count": 12,
   "id": "e6c63e0c-0817-4ae4-a7be-36b9f48eb804",
   "metadata": {},
   "outputs": [
    {
     "name": "stderr",
     "output_type": "stream",
     "text": [
      "Setting `pad_token_id` to `eos_token_id`:50256 for open-end generation.\n"
     ]
    },
    {
     "name": "stdout",
     "output_type": "stream",
     "text": [
      "Can you generate 10  questions for intent classification task with the intent label \"GetWeather\"? Generated Questions: \n",
      "\n",
      "OPEN - 3\n",
      "CLOSED - 3\n",
      "OPEN - 7\n",
      "OPEN - 1\n",
      "CLOSED - 11\n",
      "\n",
      "I tried my best to explain in short, but some points need to be clarified.\n",
      "\n",
      "We have a new requirement where we will be able to create/manage\n",
      "  questions for all the classes required in the question format.\n",
      "We will be able to show the questions to the end-users using the intent\n",
      "  label \"GetWeather\", and all the answers will also be tagged with this\n",
      "  intent.\n",
      "For understanding, a user will be able to give any class (e.g. \"A\")\n",
      "  as the question class label that does not have the required answers\n",
      "  required in the intent label.\n",
      "\n",
      "Now, I want to ask the following :\n",
      "\n",
      "what is the best way to generate all the intent question for each intent on the requirement. \n",
      "\n",
      "I am going to try the following code to generate the intent question, but it works only on the first intent. I am sure I am missing some fundamental concept here.\n",
      "List<IntentQuestion> qList = new ArrayList<IntentQuestion>();\n",
      "\n",
      "for(String intentId : intentIdList) {\n",
      "\n",
      "        Intent intent = context.getPackageName() + \".\" + intentId;\n",
      "        IntentClass intentClass = IntentClass.StuffWithIntent;\n",
      "\n",
      "            Type name = intent.getClass().getGenericType();\n",
      "            name = name.getCanonicalName();\n",
      "\n",
      "            IntentIntentType type = (IntentIntentType) name.getType();\n",
      "\n",
      "            if (id.equals(intentClass.getIdOfStuffIntent(intent))) {\n",
      "\n",
      "                String str = intent.getStringExtra(name.getName());\n",
      "\n",
      "                intentClass.buildIntentQuestion(intent, str);\n",
      "\n",
      "       \n"
     ]
    }
   ],
   "source": [
    "prompt_1 = \"Can you generate 10  questions for intent classification task with the intent label \\\"GetWeather\\\"? Generated Questions: \" # Third line\n",
    "\n",
    "res = generator(prompt_1, max_length=500, do_sample=True, temperature=0.9) # Fourth line\n",
    "print(res[0]['generated_text'])"
   ]
  },
  {
   "cell_type": "markdown",
   "id": "b1c57cab-c21d-4b79-b97c-a7a0efd72aae",
   "metadata": {},
   "source": [
    "### Using FLAN"
   ]
  },
  {
   "cell_type": "code",
   "execution_count": 5,
   "id": "4b811545-c6de-4738-8c9d-3fbf1f54907b",
   "metadata": {},
   "outputs": [
    {
     "data": {
      "application/vnd.jupyter.widget-view+json": {
       "model_id": "85e458bd60214b3e8e90be31eb6c7bfc",
       "version_major": 2,
       "version_minor": 0
      },
      "text/plain": [
       "Loading checkpoint shards:   0%|          | 0/2 [00:00<?, ?it/s]"
      ]
     },
     "metadata": {},
     "output_type": "display_data"
    },
    {
     "name": "stdout",
     "output_type": "stream",
     "text": [
      "['get weather']\n"
     ]
    }
   ],
   "source": [
    "from transformers import AutoModelForSeq2SeqLM, AutoTokenizer\n",
    "\n",
    "model = AutoModelForSeq2SeqLM.from_pretrained(\"google/flan-t5-xl\")\n",
    "tokenizer = AutoTokenizer.from_pretrained(\"google/flan-t5-xl\")\n",
    "\n",
    "inputs = tokenizer(\"Generate 2 sentences based on the given intent for the task of intent classification \\nIntent: GetWeather\\n Sentences:\", return_tensors=\"pt\")\n",
    "outputs = model.generate(**inputs)\n",
    "print(tokenizer.batch_decode(outputs, skip_special_tokens=True))"
   ]
  },
  {
   "cell_type": "code",
   "execution_count": null,
   "id": "9e001b17-cd3f-4da3-b571-eb0c587f9423",
   "metadata": {},
   "outputs": [],
   "source": []
  }
 ],
 "metadata": {
  "kernelspec": {
   "display_name": "Python (syerawar_umass_edu-vadops)",
   "language": "python",
   "name": "conda-env-syerawar_umass_edu-vadops-py"
  },
  "language_info": {
   "codemirror_mode": {
    "name": "ipython",
    "version": 3
   },
   "file_extension": ".py",
   "mimetype": "text/x-python",
   "name": "python",
   "nbconvert_exporter": "python",
   "pygments_lexer": "ipython3",
   "version": "3.10.9"
  }
 },
 "nbformat": 4,
 "nbformat_minor": 5
}
