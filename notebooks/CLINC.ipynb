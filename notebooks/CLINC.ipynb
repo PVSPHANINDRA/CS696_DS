{
 "cells": [
  {
   "cell_type": "code",
   "execution_count": 12,
   "id": "7401d595-6346-468d-a42c-d7791ee937f7",
   "metadata": {},
   "outputs": [],
   "source": [
    "# model and output directory\n",
    "L_Model = \"roberta-base\"\n",
    "output_dir = \"model/Roberta_clinc_small\"\n",
    "\n",
    "# dataset \n",
    "dataset_name = 'clinc_oos'\n",
    "dataset_subset = 'small'\n",
    "\n",
    "# device\n",
    "device = 'cuda:0'"
   ]
  },
  {
   "cell_type": "code",
   "execution_count": 13,
   "id": "46a80c8e-f51b-4bca-9dfd-3721cf5dbef5",
   "metadata": {
    "tags": []
   },
   "outputs": [
    {
     "name": "stderr",
     "output_type": "stream",
     "text": [
      "Found cached dataset clinc_oos (/work/pi_adrozdov_umass_edu/vpamidimukka_umass_edu/hf_cache/datasets/clinc_oos/small/1.0.0/abcc41d382f8137f039adc747af44714941e8196e845dfbdd8ae7a7e020e6ba1)\n"
     ]
    },
    {
     "data": {
      "application/vnd.jupyter.widget-view+json": {
       "model_id": "a39d837c412e4162aa289d7d74ce8e03",
       "version_major": 2,
       "version_minor": 0
      },
      "text/plain": [
       "  0%|          | 0/3 [00:00<?, ?it/s]"
      ]
     },
     "metadata": {},
     "output_type": "display_data"
    }
   ],
   "source": [
    "# load train and validation dataset \n",
    "from datasets import load_dataset\n",
    "\n",
    "dataset = load_dataset(dataset_name, dataset_subset)\n",
    "dataset = dataset.rename_column(\"intent\", \"label\")\n",
    "train_data, valid_data = dataset['train'], dataset['validation']"
   ]
  },
  {
   "cell_type": "code",
   "execution_count": 14,
   "id": "3199b53e-5f36-4185-b6ce-94b55d8a4ebb",
   "metadata": {},
   "outputs": [],
   "source": [
    "# generating labels\n",
    "\n",
    "labels = train_data.features[\"label\"].names\n",
    "label2id = {labels[i] : i for i in range(len(labels))}\n",
    "id2label = {i: labels[i]  for i in range(len(labels))}"
   ]
  },
  {
   "cell_type": "code",
   "execution_count": 15,
   "id": "959a0d3f-927d-4277-af32-100246a6bd4e",
   "metadata": {},
   "outputs": [],
   "source": [
    "# preprocessing: \n",
    "# convert text --> ids\n",
    "def preprocess_function(examples):\n",
    "    return tokenizer(examples[\"text\"], truncation=True)"
   ]
  },
  {
   "cell_type": "code",
   "execution_count": 16,
   "id": "ea0bb95c-a1ea-4613-9ff0-c554ed6d3556",
   "metadata": {
    "tags": []
   },
   "outputs": [],
   "source": [
    "# Initialise tokenizer\n",
    "from transformers import AutoTokenizer\n",
    "tokenizer = AutoTokenizer.from_pretrained(L_Model)"
   ]
  },
  {
   "cell_type": "code",
   "execution_count": 17,
   "id": "917037a4-1e35-48b7-92c2-7ec0a02d3b32",
   "metadata": {},
   "outputs": [
    {
     "name": "stderr",
     "output_type": "stream",
     "text": [
      "Loading cached processed dataset at /work/pi_adrozdov_umass_edu/vpamidimukka_umass_edu/hf_cache/datasets/clinc_oos/small/1.0.0/abcc41d382f8137f039adc747af44714941e8196e845dfbdd8ae7a7e020e6ba1/cache-2e95d7b0c2fff21f.arrow\n",
      "Loading cached processed dataset at /work/pi_adrozdov_umass_edu/vpamidimukka_umass_edu/hf_cache/datasets/clinc_oos/small/1.0.0/abcc41d382f8137f039adc747af44714941e8196e845dfbdd8ae7a7e020e6ba1/cache-ffef38dc9d3674db.arrow\n"
     ]
    }
   ],
   "source": [
    "# Tokenize train and validation dataset\n",
    "train_data = train_data.map(preprocess_function, batched=True)\n",
    "valid_data = valid_data.map(preprocess_function, batched=True)"
   ]
  },
  {
   "cell_type": "code",
   "execution_count": 18,
   "id": "57704c77-3ef0-4186-ada3-ea8770b487c3",
   "metadata": {},
   "outputs": [],
   "source": [
    "# data collator to form a batch from list of training dataset\n",
    "from transformers import DataCollatorWithPadding\n",
    "\n",
    "data_collator = DataCollatorWithPadding(tokenizer=tokenizer)"
   ]
  },
  {
   "cell_type": "code",
   "execution_count": 19,
   "id": "5ca023c7-e90a-4803-bc38-25e6a2b2f2c6",
   "metadata": {
    "tags": []
   },
   "outputs": [],
   "source": [
    "# Evaluate metrics\n",
    "import evaluate\n",
    "import numpy as np\n",
    "\n",
    "accuracy = evaluate.load(\"accuracy\")\n",
    "\n",
    "def compute_metrics(eval_pred):\n",
    "    predictions, labels = eval_pred\n",
    "    predictions = np.argmax(predictions, axis= 1)\n",
    "    return accuracy.compute(predictions=predictions, references=labels)"
   ]
  },
  {
   "cell_type": "code",
   "execution_count": 20,
   "id": "5ff2c62e-51db-41f4-86c6-72839aa3306e",
   "metadata": {},
   "outputs": [
    {
     "name": "stderr",
     "output_type": "stream",
     "text": [
      "Some weights of the model checkpoint at roberta-base were not used when initializing RobertaForSequenceClassification: ['roberta.pooler.dense.bias', 'lm_head.dense.weight', 'lm_head.layer_norm.weight', 'roberta.pooler.dense.weight', 'lm_head.layer_norm.bias', 'lm_head.bias', 'lm_head.decoder.weight', 'lm_head.dense.bias']\n",
      "- This IS expected if you are initializing RobertaForSequenceClassification from the checkpoint of a model trained on another task or with another architecture (e.g. initializing a BertForSequenceClassification model from a BertForPreTraining model).\n",
      "- This IS NOT expected if you are initializing RobertaForSequenceClassification from the checkpoint of a model that you expect to be exactly identical (initializing a BertForSequenceClassification model from a BertForSequenceClassification model).\n",
      "Some weights of RobertaForSequenceClassification were not initialized from the model checkpoint at roberta-base and are newly initialized: ['classifier.out_proj.bias', 'classifier.dense.bias', 'classifier.out_proj.weight', 'classifier.dense.weight']\n",
      "You should probably TRAIN this model on a down-stream task to be able to use it for predictions and inference.\n"
     ]
    }
   ],
   "source": [
    "# Define model\n",
    "from transformers import AutoModelForSequenceClassification, TrainingArguments, Trainer\n",
    "\n",
    "model = AutoModelForSequenceClassification.from_pretrained(\n",
    "    L_Model, num_labels=len(labels), id2label=id2label, label2id=label2id, return_dict=True)\n",
    "\n",
    "# load the model into GPU\n",
    "model = model.to(device)"
   ]
  },
  {
   "cell_type": "code",
   "execution_count": 21,
   "id": "0a05fc18-8dd3-4f3d-b547-afe6aa75c3fe",
   "metadata": {},
   "outputs": [
    {
     "data": {
      "text/plain": [
       "device(type='cuda', index=0)"
      ]
     },
     "execution_count": 21,
     "metadata": {},
     "output_type": "execute_result"
    }
   ],
   "source": [
    "model.device"
   ]
  },
  {
   "cell_type": "code",
   "execution_count": 22,
   "id": "c1e9bf2b-0309-4d7a-ae6b-06527d7c30b3",
   "metadata": {
    "tags": []
   },
   "outputs": [
    {
     "name": "stderr",
     "output_type": "stream",
     "text": [
      "/work/pi_adrozdov_umass_edu/vpamidimukka_umass_edu/envs/vadops/lib/python3.10/site-packages/transformers/optimization.py:391: FutureWarning: This implementation of AdamW is deprecated and will be removed in a future version. Use the PyTorch implementation torch.optim.AdamW instead, or set `no_deprecation_warning=True` to disable this warning\n",
      "  warnings.warn(\n",
      "You're using a RobertaTokenizerFast tokenizer. Please note that with a fast tokenizer, using the `__call__` method is faster than using a method to encode the text followed by a call to the `pad` method to get a padded encoding.\n"
     ]
    },
    {
     "data": {
      "text/html": [
       "\n",
       "    <div>\n",
       "      \n",
       "      <progress value='15200' max='15200' style='width:300px; height:20px; vertical-align: middle;'></progress>\n",
       "      [15200/15200 25:14, Epoch 10/10]\n",
       "    </div>\n",
       "    <table border=\"1\" class=\"dataframe\">\n",
       "  <thead>\n",
       " <tr style=\"text-align: left;\">\n",
       "      <th>Epoch</th>\n",
       "      <th>Training Loss</th>\n",
       "      <th>Validation Loss</th>\n",
       "      <th>Accuracy</th>\n",
       "    </tr>\n",
       "  </thead>\n",
       "  <tbody>\n",
       "    <tr>\n",
       "      <td>1</td>\n",
       "      <td>1.860900</td>\n",
       "      <td>1.231912</td>\n",
       "      <td>0.840000</td>\n",
       "    </tr>\n",
       "    <tr>\n",
       "      <td>2</td>\n",
       "      <td>0.405800</td>\n",
       "      <td>0.375617</td>\n",
       "      <td>0.926452</td>\n",
       "    </tr>\n",
       "    <tr>\n",
       "      <td>3</td>\n",
       "      <td>0.106100</td>\n",
       "      <td>0.303746</td>\n",
       "      <td>0.942903</td>\n",
       "    </tr>\n",
       "    <tr>\n",
       "      <td>4</td>\n",
       "      <td>0.048000</td>\n",
       "      <td>0.323877</td>\n",
       "      <td>0.946774</td>\n",
       "    </tr>\n",
       "    <tr>\n",
       "      <td>5</td>\n",
       "      <td>0.026000</td>\n",
       "      <td>0.321241</td>\n",
       "      <td>0.950323</td>\n",
       "    </tr>\n",
       "    <tr>\n",
       "      <td>6</td>\n",
       "      <td>0.025700</td>\n",
       "      <td>0.371746</td>\n",
       "      <td>0.948387</td>\n",
       "    </tr>\n",
       "    <tr>\n",
       "      <td>7</td>\n",
       "      <td>0.011800</td>\n",
       "      <td>0.355282</td>\n",
       "      <td>0.948710</td>\n",
       "    </tr>\n",
       "    <tr>\n",
       "      <td>8</td>\n",
       "      <td>0.012500</td>\n",
       "      <td>0.396875</td>\n",
       "      <td>0.945484</td>\n",
       "    </tr>\n",
       "    <tr>\n",
       "      <td>9</td>\n",
       "      <td>0.003700</td>\n",
       "      <td>0.392367</td>\n",
       "      <td>0.948710</td>\n",
       "    </tr>\n",
       "    <tr>\n",
       "      <td>10</td>\n",
       "      <td>0.005500</td>\n",
       "      <td>0.394325</td>\n",
       "      <td>0.946452</td>\n",
       "    </tr>\n",
       "  </tbody>\n",
       "</table><p>"
      ],
      "text/plain": [
       "<IPython.core.display.HTML object>"
      ]
     },
     "metadata": {},
     "output_type": "display_data"
    },
    {
     "data": {
      "text/plain": [
       "TrainOutput(global_step=15200, training_loss=0.3972613959406552, metrics={'train_runtime': 1514.2424, 'train_samples_per_second': 50.19, 'train_steps_per_second': 10.038, 'total_flos': 611751420952770.0, 'train_loss': 0.3972613959406552, 'epoch': 10.0})"
      ]
     },
     "execution_count": 22,
     "metadata": {},
     "output_type": "execute_result"
    }
   ],
   "source": [
    "# define training arguments\n",
    "training_args = TrainingArguments(\n",
    "    output_dir= output_dir,\n",
    "    # overwrite_output_dir = True,\n",
    "    learning_rate=2e-5,\n",
    "    per_device_train_batch_size=5,\n",
    "    per_device_eval_batch_size=5,\n",
    "    num_train_epochs=10,\n",
    "    weight_decay=0.1,\n",
    "    evaluation_strategy=\"epoch\",\n",
    "    save_strategy=\"epoch\",\n",
    "    load_best_model_at_end=True\n",
    ")\n",
    "\n",
    "# define trainer\n",
    "trainer = Trainer(\n",
    "    model = model,\n",
    "    args = training_args,\n",
    "    train_dataset = train_data,\n",
    "    eval_dataset = valid_data,\n",
    "    tokenizer = tokenizer,\n",
    "    data_collator = data_collator,\n",
    "    compute_metrics = compute_metrics,\n",
    ")\n",
    "\n",
    "# Train model\n",
    "trainer.train()"
   ]
  },
  {
   "cell_type": "code",
   "execution_count": null,
   "id": "84d21f72-e09f-4c8f-9b53-422de47dc156",
   "metadata": {},
   "outputs": [],
   "source": []
  }
 ],
 "metadata": {
  "kernelspec": {
   "display_name": "Python (4.8.3-jupyterhub-stable) *",
   "language": "python",
   "name": "conda-env-4.8.3-jupyterhub-stable-py"
  },
  "language_info": {
   "codemirror_mode": {
    "name": "ipython",
    "version": 3
   },
   "file_extension": ".py",
   "mimetype": "text/x-python",
   "name": "python",
   "nbconvert_exporter": "python",
   "pygments_lexer": "ipython3",
   "version": "3.10.4"
  }
 },
 "nbformat": 4,
 "nbformat_minor": 5
}
