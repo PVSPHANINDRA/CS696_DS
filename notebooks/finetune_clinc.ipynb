{
 "cells": [
  {
   "cell_type": "code",
   "execution_count": 27,
   "id": "2db6c290-8ca6-46fd-8c2b-8e44498c4dc2",
   "metadata": {},
   "outputs": [],
   "source": [
    "import comet_ml\n",
    "from comet_ml import Experiment\n",
    "import torch\n",
    "import random"
   ]
  },
  {
   "cell_type": "code",
   "execution_count": 25,
   "id": "690158c4-0d6b-403a-84d6-cedf279e350a",
   "metadata": {},
   "outputs": [
    {
     "name": "stderr",
     "output_type": "stream",
     "text": [
      "COMET WARNING: Comet has disabled auto-logging functionality as it has been imported after the following ML modules: sklearn, torch. Metrics and hyperparameters can still be logged using Experiment.log_metrics() and Experiment.log_parameters()\n",
      "COMET INFO: ---------------------------\n",
      "COMET INFO: Comet.ml Experiment Summary\n",
      "COMET INFO: ---------------------------\n",
      "COMET INFO:   Data:\n",
      "COMET INFO:     display_summary_level : 1\n",
      "COMET INFO:     url                   : https://www.comet.com/gdhanania/clinc/98101069246a41598441c13cef34a203\n",
      "COMET INFO:   Parameters:\n",
      "COMET INFO:     dataset_subset              : small\n",
      "COMET INFO:     learning_rate               : 2e-05\n",
      "COMET INFO:     num_train_epochs            : 10\n",
      "COMET INFO:     per_device_eval_batch_size  : 5\n",
      "COMET INFO:     per_device_train_batch_size : 5\n",
      "COMET INFO:     seed                        : foo\n",
      "COMET INFO:     weight_decay                : 0.1\n",
      "COMET INFO:   Uploads:\n",
      "COMET INFO:     conda-environment-definition : 1\n",
      "COMET INFO:     conda-info                   : 1\n",
      "COMET INFO:     conda-specification          : 1\n",
      "COMET INFO:     environment details          : 1\n",
      "COMET INFO:     filename                     : 1\n",
      "COMET INFO:     git metadata                 : 1\n",
      "COMET INFO:     git-patch (uncompressed)     : 1 (177.38 KB)\n",
      "COMET INFO:     installed packages           : 1\n",
      "COMET INFO:     notebook                     : 1\n",
      "COMET INFO:     os packages                  : 1\n",
      "COMET INFO:     source_code                  : 1\n",
      "COMET INFO: ---------------------------\n",
      "COMET WARNING: Comet has disabled auto-logging functionality as it has been imported after the following ML modules: sklearn, torch. Metrics and hyperparameters can still be logged using Experiment.log_metrics() and Experiment.log_parameters()\n",
      "COMET WARNING: As you are running in a Jupyter environment, you will need to call `experiment.end()` when finished to ensure all metrics and code are logged before exiting.\n",
      "COMET INFO: Experiment is live on comet.com https://www.comet.com/gdhanania/clinc/fc46937cf28d496386168027db55d709\n",
      "\n"
     ]
    }
   ],
   "source": [
    "# Building an experiment with your API key\n",
    "experiment = Experiment(\n",
    "    api_key=\"IkRq4zmkwF7SO5EiZAG4UjEVQ\",\n",
    "    project_name=\"CLINC\",\n",
    "    workspace=\"gdhanania\",\n",
    ")\n",
    "\n",
    "# Setting hyperparameters\n",
    "hyper_params = {\n",
    "    \"seed\" : 34,\n",
    "    \"learning_rate\" : 2e-5,\n",
    "    \"per_device_train_batch_size\" : 5,\n",
    "    \"per_device_eval_batch_size\" : 5,\n",
    "    \"num_train_epochs\" : 10,\n",
    "    \"weight_decay\" : 0.1,\n",
    "    \"dataset_subset\" : \"small\"}\n",
    "\n",
    "# Logging hyperparamters\n",
    "experiment.log_parameters(hyper_params)"
   ]
  },
  {
   "cell_type": "code",
   "execution_count": 29,
   "id": "34b9e333-fa90-4417-b1fd-010ba8c6282a",
   "metadata": {},
   "outputs": [],
   "source": [
    "torch.manual_seed(hyper_params['seed'])\n",
    "random.seed(hyper_params['seed'])"
   ]
  },
  {
   "cell_type": "code",
   "execution_count": 30,
   "id": "c301111d-2167-4404-800b-b4fbe80982e3",
   "metadata": {},
   "outputs": [],
   "source": [
    "# NOTE: Based on your requirements, make changes to the variables:  checkpoints_out_dir, dataset_subset\n",
    "# model and checkpoints_out_dir directory\n",
    "L_Model = \"roberta-base\"\n",
    "checkpoints_out_dir = \"../checkpoints/clinc_small\"\n",
    "# dataset\n",
    "dataset_name = 'clinc_oos'\n",
    "dataset_subset = hyper_params['dataset_subset']\n",
    "# device\n",
    "device = 'cuda:0'"
   ]
  },
  {
   "cell_type": "code",
   "execution_count": 31,
   "id": "46a80c8e-f51b-4bca-9dfd-3721cf5dbef5",
   "metadata": {
    "tags": []
   },
   "outputs": [
    {
     "name": "stderr",
     "output_type": "stream",
     "text": [
      "Found cached dataset clinc_oos (/work/pi_adrozdov_umass_edu/gdhanania_umass_edu/hf_cache/datasets/clinc_oos/small/1.0.0/abcc41d382f8137f039adc747af44714941e8196e845dfbdd8ae7a7e020e6ba1)\n",
      "100%|██████████| 3/3 [00:00<00:00, 153.82it/s]"
     ]
    },
    {
     "name": "stdout",
     "output_type": "stream",
     "text": [
      "DatasetDict({\n",
      "    train: Dataset({\n",
      "        features: ['text', 'intent'],\n",
      "        num_rows: 7600\n",
      "    })\n",
      "    validation: Dataset({\n",
      "        features: ['text', 'intent'],\n",
      "        num_rows: 3100\n",
      "    })\n",
      "    test: Dataset({\n",
      "        features: ['text', 'intent'],\n",
      "        num_rows: 5500\n",
      "    })\n",
      "})\n"
     ]
    },
    {
     "name": "stderr",
     "output_type": "stream",
     "text": [
      "\n"
     ]
    }
   ],
   "source": [
    "# load train and validation dataset\n",
    "from datasets import load_dataset\n",
    "dataset = load_dataset(dataset_name, dataset_subset)\n",
    "print(dataset)\n",
    "dataset = dataset.rename_column(\"intent\", \"label\")\n",
    "train_data, valid_data = dataset['train'], dataset['validation']"
   ]
  },
  {
   "cell_type": "code",
   "execution_count": 32,
   "id": "3199b53e-5f36-4185-b6ce-94b55d8a4ebb",
   "metadata": {},
   "outputs": [],
   "source": [
    "# generating labels\n",
    "\n",
    "labels = train_data.features[\"label\"].names\n",
    "label2id = {labels[i] : i for i in range(len(labels))}\n",
    "id2label = {i: labels[i]  for i in range(len(labels))}"
   ]
  },
  {
   "cell_type": "code",
   "execution_count": 33,
   "id": "959a0d3f-927d-4277-af32-100246a6bd4e",
   "metadata": {},
   "outputs": [],
   "source": [
    "# preprocessing: \n",
    "# convert text --> ids\n",
    "def preprocess_function(examples):\n",
    "    return tokenizer(examples[\"text\"], truncation=True)"
   ]
  },
  {
   "cell_type": "code",
   "execution_count": 34,
   "id": "ea0bb95c-a1ea-4613-9ff0-c554ed6d3556",
   "metadata": {
    "tags": []
   },
   "outputs": [],
   "source": [
    "# Initialise tokenizer\n",
    "from transformers import AutoTokenizer\n",
    "tokenizer = AutoTokenizer.from_pretrained(L_Model)"
   ]
  },
  {
   "cell_type": "code",
   "execution_count": 35,
   "id": "917037a4-1e35-48b7-92c2-7ec0a02d3b32",
   "metadata": {},
   "outputs": [
    {
     "name": "stderr",
     "output_type": "stream",
     "text": [
      "Loading cached processed dataset at /work/pi_adrozdov_umass_edu/gdhanania_umass_edu/hf_cache/datasets/clinc_oos/small/1.0.0/abcc41d382f8137f039adc747af44714941e8196e845dfbdd8ae7a7e020e6ba1/cache-2e95d7b0c2fff21f.arrow\n",
      "                                                                  \r"
     ]
    }
   ],
   "source": [
    "# Tokenize train and validation dataset\n",
    "train_data = train_data.map(preprocess_function, batched=True)\n",
    "valid_data = valid_data.map(preprocess_function, batched=True)"
   ]
  },
  {
   "cell_type": "code",
   "execution_count": 36,
   "id": "57704c77-3ef0-4186-ada3-ea8770b487c3",
   "metadata": {},
   "outputs": [],
   "source": [
    "# data collator to form a batch from list of training dataset\n",
    "from transformers import DataCollatorWithPadding\n",
    "\n",
    "data_collator = DataCollatorWithPadding(tokenizer=tokenizer)"
   ]
  },
  {
   "cell_type": "code",
   "execution_count": 37,
   "id": "5ca023c7-e90a-4803-bc38-25e6a2b2f2c6",
   "metadata": {
    "tags": []
   },
   "outputs": [],
   "source": [
    "# Evaluate metrics\n",
    "import evaluate\n",
    "import numpy as np\n",
    "\n",
    "accuracy = evaluate.load(\"accuracy\")\n",
    "\n",
    "def compute_metrics(eval_pred):\n",
    "    predictions, labels = eval_pred\n",
    "    predictions = np.argmax(predictions, axis= 1)\n",
    "    return accuracy.compute(predictions=predictions, references=labels)"
   ]
  },
  {
   "cell_type": "code",
   "execution_count": 38,
   "id": "5ff2c62e-51db-41f4-86c6-72839aa3306e",
   "metadata": {},
   "outputs": [
    {
     "name": "stderr",
     "output_type": "stream",
     "text": [
      "Some weights of the model checkpoint at roberta-base were not used when initializing RobertaForSequenceClassification: ['lm_head.layer_norm.bias', 'roberta.pooler.dense.bias', 'lm_head.bias', 'lm_head.dense.weight', 'lm_head.layer_norm.weight', 'roberta.pooler.dense.weight', 'lm_head.dense.bias', 'lm_head.decoder.weight']\n",
      "- This IS expected if you are initializing RobertaForSequenceClassification from the checkpoint of a model trained on another task or with another architecture (e.g. initializing a BertForSequenceClassification model from a BertForPreTraining model).\n",
      "- This IS NOT expected if you are initializing RobertaForSequenceClassification from the checkpoint of a model that you expect to be exactly identical (initializing a BertForSequenceClassification model from a BertForSequenceClassification model).\n",
      "Some weights of RobertaForSequenceClassification were not initialized from the model checkpoint at roberta-base and are newly initialized: ['classifier.out_proj.weight', 'classifier.dense.weight', 'classifier.dense.bias', 'classifier.out_proj.bias']\n",
      "You should probably TRAIN this model on a down-stream task to be able to use it for predictions and inference.\n"
     ]
    }
   ],
   "source": [
    "# Define model\n",
    "from transformers import AutoModelForSequenceClassification, TrainingArguments, Trainer\n",
    "\n",
    "model = AutoModelForSequenceClassification.from_pretrained(\n",
    "    L_Model, num_labels=len(labels), id2label=id2label, label2id=label2id, return_dict=True)\n",
    "\n",
    "# load the model into GPU\n",
    "model = model.to(device)"
   ]
  },
  {
   "cell_type": "code",
   "execution_count": 39,
   "id": "0a05fc18-8dd3-4f3d-b547-afe6aa75c3fe",
   "metadata": {},
   "outputs": [
    {
     "data": {
      "text/plain": [
       "device(type='cuda', index=0)"
      ]
     },
     "execution_count": 39,
     "metadata": {},
     "output_type": "execute_result"
    }
   ],
   "source": [
    "model.device"
   ]
  },
  {
   "cell_type": "code",
   "execution_count": 40,
   "id": "c1e9bf2b-0309-4d7a-ae6b-06527d7c30b3",
   "metadata": {
    "tags": []
   },
   "outputs": [
    {
     "name": "stderr",
     "output_type": "stream",
     "text": [
      "/work/pi_adrozdov_umass_edu/gdhanania_umass_edu/envs/vadops/lib/python3.10/site-packages/transformers/optimization.py:391: FutureWarning: This implementation of AdamW is deprecated and will be removed in a future version. Use the PyTorch implementation torch.optim.AdamW instead, or set `no_deprecation_warning=True` to disable this warning\n",
      "  warnings.warn(\n",
      "You're using a RobertaTokenizerFast tokenizer. Please note that with a fast tokenizer, using the `__call__` method is faster than using a method to encode the text followed by a call to the `pad` method to get a padded encoding.\n"
     ]
    },
    {
     "data": {
      "text/html": [
       "\n",
       "    <div>\n",
       "      \n",
       "      <progress value='15200' max='15200' style='width:300px; height:20px; vertical-align: middle;'></progress>\n",
       "      [15200/15200 25:13, Epoch 10/10]\n",
       "    </div>\n",
       "    <table border=\"1\" class=\"dataframe\">\n",
       "  <thead>\n",
       " <tr style=\"text-align: left;\">\n",
       "      <th>Epoch</th>\n",
       "      <th>Training Loss</th>\n",
       "      <th>Validation Loss</th>\n",
       "      <th>Accuracy</th>\n",
       "    </tr>\n",
       "  </thead>\n",
       "  <tbody>\n",
       "    <tr>\n",
       "      <td>1</td>\n",
       "      <td>1.883300</td>\n",
       "      <td>1.274216</td>\n",
       "      <td>0.833226</td>\n",
       "    </tr>\n",
       "    <tr>\n",
       "      <td>2</td>\n",
       "      <td>0.416600</td>\n",
       "      <td>0.380624</td>\n",
       "      <td>0.932903</td>\n",
       "    </tr>\n",
       "    <tr>\n",
       "      <td>3</td>\n",
       "      <td>0.103900</td>\n",
       "      <td>0.296894</td>\n",
       "      <td>0.943226</td>\n",
       "    </tr>\n",
       "    <tr>\n",
       "      <td>4</td>\n",
       "      <td>0.048200</td>\n",
       "      <td>0.315180</td>\n",
       "      <td>0.948065</td>\n",
       "    </tr>\n",
       "    <tr>\n",
       "      <td>5</td>\n",
       "      <td>0.025400</td>\n",
       "      <td>0.305236</td>\n",
       "      <td>0.952258</td>\n",
       "    </tr>\n",
       "    <tr>\n",
       "      <td>6</td>\n",
       "      <td>0.025300</td>\n",
       "      <td>0.338674</td>\n",
       "      <td>0.948065</td>\n",
       "    </tr>\n",
       "    <tr>\n",
       "      <td>7</td>\n",
       "      <td>0.012300</td>\n",
       "      <td>0.318732</td>\n",
       "      <td>0.953226</td>\n",
       "    </tr>\n",
       "    <tr>\n",
       "      <td>8</td>\n",
       "      <td>0.006800</td>\n",
       "      <td>0.326316</td>\n",
       "      <td>0.954194</td>\n",
       "    </tr>\n",
       "    <tr>\n",
       "      <td>9</td>\n",
       "      <td>0.003300</td>\n",
       "      <td>0.334304</td>\n",
       "      <td>0.952581</td>\n",
       "    </tr>\n",
       "    <tr>\n",
       "      <td>10</td>\n",
       "      <td>0.005000</td>\n",
       "      <td>0.322711</td>\n",
       "      <td>0.955806</td>\n",
       "    </tr>\n",
       "  </tbody>\n",
       "</table><p>"
      ],
      "text/plain": [
       "<IPython.core.display.HTML object>"
      ]
     },
     "metadata": {},
     "output_type": "display_data"
    },
    {
     "data": {
      "text/plain": [
       "TrainOutput(global_step=15200, training_loss=0.40196096307941176, metrics={'train_runtime': 1513.6347, 'train_samples_per_second': 50.21, 'train_steps_per_second': 10.042, 'total_flos': 611751420952770.0, 'train_loss': 0.40196096307941176, 'epoch': 10.0})"
      ]
     },
     "execution_count": 40,
     "metadata": {},
     "output_type": "execute_result"
    }
   ],
   "source": [
    "# define training arguments\n",
    "training_args = TrainingArguments(\n",
    "    output_dir=checkpoints_out_dir,\n",
    "    learning_rate=hyper_params['learning_rate'],\n",
    "    per_device_train_batch_size=hyper_params['per_device_train_batch_size'],\n",
    "    per_device_eval_batch_size=hyper_params['per_device_eval_batch_size'],\n",
    "    num_train_epochs=hyper_params['num_train_epochs'],\n",
    "    weight_decay=hyper_params['weight_decay'],\n",
    "    evaluation_strategy=\"epoch\",\n",
    "    save_strategy=\"epoch\",\n",
    "    load_best_model_at_end=True\n",
    ")\n",
    "\n",
    "# define trainer\n",
    "trainer = Trainer(\n",
    "    model = model,\n",
    "    args = training_args,\n",
    "    train_dataset = train_data,\n",
    "    eval_dataset = valid_data,\n",
    "    tokenizer = tokenizer,\n",
    "    data_collator = data_collator,\n",
    "    compute_metrics = compute_metrics,\n",
    ")\n",
    "\n",
    "# Train model\n",
    "trainer.train()"
   ]
  },
  {
   "cell_type": "code",
   "execution_count": 42,
   "id": "a9d18c64-6e36-4426-9b14-3e03bfdc1249",
   "metadata": {},
   "outputs": [
    {
     "name": "stderr",
     "output_type": "stream",
     "text": [
      "COMET INFO: ---------------------------\n",
      "COMET INFO: Comet.ml Experiment Summary\n",
      "COMET INFO: ---------------------------\n",
      "COMET INFO:   Data:\n",
      "COMET INFO:     display_summary_level : 1\n",
      "COMET INFO:     url                   : https://www.comet.com/gdhanania/clinc/fc46937cf28d496386168027db55d709\n",
      "COMET INFO:   Parameters:\n",
      "COMET INFO:     dataset_subset              : small\n",
      "COMET INFO:     learning_rate               : 2e-05\n",
      "COMET INFO:     num_train_epochs            : 10\n",
      "COMET INFO:     per_device_eval_batch_size  : 5\n",
      "COMET INFO:     per_device_train_batch_size : 5\n",
      "COMET INFO:     seed                        : 34\n",
      "COMET INFO:     weight_decay                : 0.1\n",
      "COMET INFO:   Uploads:\n",
      "COMET INFO:     conda-environment-definition : 1\n",
      "COMET INFO:     conda-info                   : 1\n",
      "COMET INFO:     conda-specification          : 1\n",
      "COMET INFO:     environment details          : 1\n",
      "COMET INFO:     filename                     : 1\n",
      "COMET INFO:     git metadata                 : 1\n",
      "COMET INFO:     git-patch (uncompressed)     : 1 (178.66 KB)\n",
      "COMET INFO:     installed packages           : 1\n",
      "COMET INFO:     notebook                     : 1\n",
      "COMET INFO:     os packages                  : 1\n",
      "COMET INFO:     source_code                  : 1\n",
      "COMET INFO: ---------------------------\n",
      "COMET WARNING: Comet has disabled auto-logging functionality as it has been imported after the following ML modules: sklearn, torch. Metrics and hyperparameters can still be logged using Experiment.log_metrics() and Experiment.log_parameters()\n",
      "COMET INFO: Uploading metrics, params, and assets to Comet before program termination (may take several seconds)\n",
      "COMET INFO: The Python SDK has 3600 seconds to finish before aborting...\n"
     ]
    }
   ],
   "source": [
    "experiment.end()"
   ]
  },
  {
   "cell_type": "code",
   "execution_count": null,
   "id": "597a5b61-7131-4628-a082-4bff8d54bca4",
   "metadata": {},
   "outputs": [],
   "source": []
  }
 ],
 "metadata": {
  "kernelspec": {
   "display_name": "Python (gdhanania_umass_edu-vadops)",
   "language": "python",
   "name": "conda-env-gdhanania_umass_edu-vadops-py"
  },
  "language_info": {
   "codemirror_mode": {
    "name": "ipython",
    "version": 3
   },
   "file_extension": ".py",
   "mimetype": "text/x-python",
   "name": "python",
   "nbconvert_exporter": "python",
   "pygments_lexer": "ipython3",
   "version": "3.10.9"
  }
 },
 "nbformat": 4,
 "nbformat_minor": 5
}
